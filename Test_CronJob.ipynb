{
  "nbformat": 4,
  "nbformat_minor": 0,
  "metadata": {
    "colab": {
      "provenance": [],
      "authorship_tag": "ABX9TyM46rgB+MQdb9AtkZtIXwzS",
      "include_colab_link": true
    },
    "kernelspec": {
      "name": "python3",
      "display_name": "Python 3"
    },
    "language_info": {
      "name": "python"
    }
  },
  "cells": [
    {
      "cell_type": "markdown",
      "metadata": {
        "id": "view-in-github",
        "colab_type": "text"
      },
      "source": [
        "<a href=\"https://colab.research.google.com/github/kittimaxz/Study/blob/main/Test_CronJob.ipynb\" target=\"_parent\"><img src=\"https://colab.research.google.com/assets/colab-badge.svg\" alt=\"Open In Colab\"/></a>"
      ]
    },
    {
      "cell_type": "code",
      "execution_count": null,
      "metadata": {
        "id": "3GKHxoYVcHNg"
      },
      "outputs": [],
      "source": [
        "!pip install google-analytics-data\n",
        "!pip install mysql-connector"
      ]
    },
    {
      "cell_type": "code",
      "source": [
        "from google.analytics.data_v1beta import BetaAnalyticsDataClient\n",
        "from google.analytics.data_v1beta.types import DateRange, Metric, Dimension, RunReportRequest\n",
        "import mysql.connector"
      ],
      "metadata": {
        "id": "YMdGfA6GhpHX"
      },
      "execution_count": null,
      "outputs": []
    },
    {
      "cell_type": "code",
      "source": [
        "# สร้างไคลเอนต์เพื่อเชื่อมต่อกับ GA4\n",
        "client = BetaAnalyticsDataClient()\n",
        "client"
      ],
      "metadata": {
        "id": "1WNGXDbZht_o"
      },
      "execution_count": null,
      "outputs": []
    },
    {
      "cell_type": "code",
      "source": [
        "# กำหนดการร้องขอข้อมูล\n",
        "request = RunReportRequest(\n",
        "    property=\"properties/YOUR_PROPERTY_ID\",  # ใส่ Property ID ของ GA4\n",
        "    dimensions=[Dimension(name=\"city\"), Dimension(name=\"country\")],\n",
        "    metrics=[Metric(name=\"activeUsers\")],\n",
        "    date_ranges=[DateRange(start_date=\"2023-01-01\", end_date=\"today\")]\n",
        ")\n",
        "request"
      ],
      "metadata": {
        "id": "a5_7tlgchyry"
      },
      "execution_count": null,
      "outputs": []
    },
    {
      "cell_type": "code",
      "source": [
        "# รันการดึงข้อมูล\n",
        "response = client.run_report(request)\n",
        "response"
      ],
      "metadata": {
        "id": "ulekvmLzh4uz"
      },
      "execution_count": null,
      "outputs": []
    },
    {
      "cell_type": "code",
      "source": [
        "# พิมพ์ข้อมูลออกมา\n",
        "for row in response.rows:\n",
        "    print(row)"
      ],
      "metadata": {
        "id": "-rzJ1KgZh7SK"
      },
      "execution_count": null,
      "outputs": []
    },
    {
      "cell_type": "code",
      "source": [
        "# เชื่อมต่อกับ MySQL\n",
        "connection = mysql.connector.connect(\n",
        "    host=\"localhost\",\n",
        "    user=\"yourusername\",\n",
        "    password=\"yourpassword\",\n",
        "    database=\"analytics_db\"\n",
        ")\n",
        "connection"
      ],
      "metadata": {
        "id": "f62PGOq1h-N5"
      },
      "execution_count": null,
      "outputs": []
    },
    {
      "cell_type": "code",
      "source": [
        "cursor = connection.cursor()\n",
        "cursor"
      ],
      "metadata": {
        "id": "aurWzeLiiG9i"
      },
      "execution_count": null,
      "outputs": []
    },
    {
      "cell_type": "code",
      "source": [
        "# สมมติว่ามีการสร้างตารางล่วงหน้าแล้ว\n",
        "sql = \"INSERT INTO analytics_data (city, country, active_users) VALUES (%s, %s, %s)\"\n",
        "sql"
      ],
      "metadata": {
        "id": "pq2uxb-3iKMS"
      },
      "execution_count": null,
      "outputs": []
    },
    {
      "cell_type": "code",
      "source": [
        "for row in response.rows:\n",
        "    data = (row.dimension_values[0].value, row.dimension_values[1].value, row.metric_values[0].value)\n",
        "    cursor.execute(sql, data)"
      ],
      "metadata": {
        "id": "JwDDejWHiOya"
      },
      "execution_count": null,
      "outputs": []
    },
    {
      "cell_type": "code",
      "source": [
        "connection.commit() # save การเปลี่ยนแปลง\n",
        "connection.close() # ปิดการเชื่อมต่อ"
      ],
      "metadata": {
        "id": "38onQP-ZiQyu"
      },
      "execution_count": null,
      "outputs": []
    },
    {
      "cell_type": "code",
      "source": [],
      "metadata": {
        "id": "Jcunm1-kiT5f"
      },
      "execution_count": null,
      "outputs": []
    }
  ]
}